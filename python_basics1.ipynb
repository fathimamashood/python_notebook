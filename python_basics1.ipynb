{
  "nbformat": 4,
  "nbformat_minor": 0,
  "metadata": {
    "colab": {
      "name": "python_basics1.ipynb",
      "version": "0.3.2",
      "provenance": [],
      "include_colab_link": true
    },
    "kernelspec": {
      "name": "python3",
      "display_name": "Python 3"
    }
  },
  "cells": [
    {
      "cell_type": "markdown",
      "metadata": {
        "id": "view-in-github",
        "colab_type": "text"
      },
      "source": [
        "<a href=\"https://colab.research.google.com/github/fathimamashood/python_notebook/blob/master/python_basics1.ipynb\" target=\"_parent\"><img src=\"https://colab.research.google.com/assets/colab-badge.svg\" alt=\"Open In Colab\"/></a>"
      ]
    },
    {
      "metadata": {
        "id": "5jen4ivWvvHD",
        "colab_type": "code",
        "colab": {
          "base_uri": "https://localhost:8080/",
          "height": 34
        },
        "outputId": "d57f0ced-c015-4542-da3e-697f45c51187"
      },
      "cell_type": "code",
      "source": [
        "#Python comments are written with a '#' sign; they are not executed by the compiler; comments are for your reference.\n",
        "#Python is an interpreted language (FYI, C/C++ are compiled languages.)\n",
        "#Once you write your code, the compiler will start executing from the top of the file\n",
        "\n",
        "#Displaying \"Hello World!\" on the screen\n",
        "#print is a Python defined default function, we are simply using it here\n",
        "print(\"Hello World!\")"
      ],
      "execution_count": 1,
      "outputs": [
        {
          "output_type": "stream",
          "text": [
            "Hello World!\n"
          ],
          "name": "stdout"
        }
      ]
    },
    {
      "metadata": {
        "id": "-R6RVFcH0FGQ",
        "colab_type": "code",
        "colab": {
          "base_uri": "https://localhost:8080/",
          "height": 34
        },
        "outputId": "807ba73c-9db1-45b6-8fad-edccb9e772c9"
      },
      "cell_type": "code",
      "source": [
        "#Three types of programming style\n",
        "## Unstructured (flat file style)\n",
        "## Procedural\n",
        "## Object oriented\n",
        "\n",
        "# Unstructured programs\n",
        "## You write your program as one flat file, which gets executed from top to bottom line by line\n",
        "\n",
        "# Define a variable called x and assign the value 10\n",
        "# A variable is a place holder where you can store a value in memory\n",
        "# When you run a program, it is first loaded to the memory and then executed\n",
        "x = 10\n",
        "# Define a variable called y and assign the value 20\n",
        "y = 20\n",
        "\n",
        "#store the addition of x and y in a new variable called add\n",
        "add = x + y\n",
        "#print the results\n",
        "print(\"x + y is equal to {}\".format(add))"
      ],
      "execution_count": 2,
      "outputs": [
        {
          "output_type": "stream",
          "text": [
            "x + y is equal to 30\n"
          ],
          "name": "stdout"
        }
      ]
    },
    {
      "metadata": {
        "id": "DyS_VNxP1hzl",
        "colab_type": "code",
        "colab": {
          "base_uri": "https://localhost:8080/",
          "height": 34
        },
        "outputId": "f50405a4-8ae3-47d6-b852-f065f1081ac6"
      },
      "cell_type": "code",
      "source": [
        "# Procedural programs\n",
        "# You organize your code into units called functions.\n",
        "# There are two phases - creating functions and using functions.\n",
        "# These functions get executed only when you use them.\n",
        "\n",
        "# Define a function called fun_add\n",
        "# It takes two input parameters x and y\n",
        "def fun_add(x, y):\n",
        "  # Function body - where we write the business logic\n",
        "  add = x + y\n",
        "  # Return this value to the called program\n",
        "  return add\n",
        "\n",
        "# Using the function\n",
        "result = fun_add(10, 20)\n",
        "\n",
        "# Print the results\n",
        "print(\"x + y is equal to {}\".format(result))"
      ],
      "execution_count": 3,
      "outputs": [
        {
          "output_type": "stream",
          "text": [
            "x + y is equal to 30\n"
          ],
          "name": "stdout"
        }
      ]
    }
  ]
}